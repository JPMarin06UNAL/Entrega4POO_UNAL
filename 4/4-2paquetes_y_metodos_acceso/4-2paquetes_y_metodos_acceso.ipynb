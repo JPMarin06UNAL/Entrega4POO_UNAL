{
 "cells": [
  {
   "cell_type": "markdown",
   "metadata": {},
   "source": [
    "# Enunciado: Clase **Inmueble** con Herencia\n",
    "\n",
    "Se requiere realizar un programa que modele diferentes tipos de inmuebles.\n",
    "\n",
    "## Atributos Generales de un Inmueble\n",
    "Cada inmueble tiene los siguientes atributos:\n",
    "- **Identificador inmobiliario** (tipo entero).\n",
    "- **Área** en metros cuadrados (tipo entero).\n",
    "- **Dirección** (tipo String).\n",
    "\n",
    "## Inmuebles para Vivienda\n",
    "Los inmuebles para vivienda pueden ser **casas** o **apartamentos**.\n",
    "\n",
    "### Atributos Comunes de Vivienda\n",
    "- **Número de habitaciones**.\n",
    "- **Número de baños**.\n",
    "\n",
    "### Tipos de Casas\n",
    "Las casas pueden clasificarse como **rurales** o **urbanas**.\n",
    "\n",
    "#### Casas Rurales\n",
    "Atributos específicos:\n",
    "- **Cantidad de pisos**.\n",
    "- **Distancia a la cabecera municipal**.\n",
    "- **Altitud sobre el nivel del mar**.\n",
    "\n",
    "#### Casas Urbanas\n",
    "Atributos específicos:\n",
    "- **Cantidad de pisos**.\n",
    "- Clasificación:\n",
    "  - **Casa en conjunto cerrado**:\n",
    "    - **Valor de administración**.\n",
    "    - **Incluye áreas comunes** (piscinas, campos deportivos, etc.).\n",
    "  - **Casa independiente**.\n",
    "\n",
    "### Apartamentos\n",
    "Los apartamentos se dividen en **apartaestudios** y **apartamentos familiares**.\n",
    "\n",
    "#### Apartaestudios\n",
    "Atributos específicos:\n",
    "- Una sola habitación.\n",
    "\n",
    "#### Apartamentos Familiares\n",
    "Atributos específicos:\n",
    "- **Valor de administración**.\n",
    "\n",
    "---\n",
    "\n",
    "## Inmuebles Comerciales\n",
    "Los locales se clasifican en **locales comerciales** y **oficinas**.\n",
    "\n",
    "### Atributos Comunes de Locales\n",
    "- **Localización** (si es interno o da a la calle).\n",
    "\n",
    "#### Locales Comerciales\n",
    "Atributos específicos:\n",
    "- **Centro comercial** donde están establecidos.\n",
    "\n",
    "#### Oficinas\n",
    "Atributos específicos:\n",
    "- **Pertenencia al Gobierno** (valor booleano).\n",
    "\n",
    "---\n",
    "\n",
    "## Valor de Compra de un Inmueble\n",
    "El valor de compra de un inmueble depende del área de cada inmueble según la siguiente tabla:\n",
    "\n",
    "| **Inmueble**               | **Valor por metro cuadrado** |\n",
    "|----------------------------|-----------------------------|\n",
    "| Casa rural                 | $1,500,000                 |\n",
    "| Casa en conjunto cerrado   | $2,500,000                 |\n",
    "| Casa independiente         | $3,000,000                 |\n",
    "| Apartaestudio              | $1,500,000                 |\n",
    "| Apartamento familiar       | $2,000,000                 |\n",
    "| Local comercial            | $3,000,000                 |\n",
    "| Oficina                    | $3,500,000                 |\n",
    "\n",
    "---\n",
    "_Adaptado de: Ejercicios de programación orientada a objetos con Java y UML_\n"
   ]
  },
  {
   "cell_type": "code",
   "execution_count": 2,
   "metadata": {},
   "outputs": [],
   "source": [
    "class Inmueble:\n",
    "    def __init__(self, id_inmueble, area, direccion):\n",
    "        self.id_inmueble = id_inmueble\n",
    "        self.area = area\n",
    "        self.direccion = direccion\n",
    "\n",
    "    def calcular_valor_compra(self):\n",
    "        pass"
   ]
  },
  {
   "cell_type": "code",
   "execution_count": 3,
   "metadata": {},
   "outputs": [],
   "source": [
    "class Vivienda(Inmueble):\n",
    "    def __init__(self, id_inmueble, area, direccion, num_habitaciones, num_banos):\n",
    "        super().__init__(id_inmueble, area, direccion)\n",
    "        self.num_habitaciones = num_habitaciones\n",
    "        self.num_banos = num_banos"
   ]
  },
  {
   "cell_type": "code",
   "execution_count": 4,
   "metadata": {},
   "outputs": [],
   "source": [
    "class Casa(Vivienda):\n",
    "    def __init__(self, id_inmueble, area, direccion, num_habitaciones, num_banos, num_pisos):\n",
    "        super().__init__(id_inmueble, area, direccion, num_habitaciones, num_banos)\n",
    "        self.num_pisos = num_pisos"
   ]
  },
  {
   "cell_type": "code",
   "execution_count": 5,
   "metadata": {},
   "outputs": [],
   "source": [
    "# casa_rural = CasaRural(1, 120, \"Vereda El Sol\", 3, 2, 2, 15, 2500)\n",
    "\n",
    "class CasaRural(Casa):\n",
    "    def __init__(self, id_inmueble, area, direccion, num_habitaciones, num_banos, num_pisos, distancia_cabecera, altitud):\n",
    "        super().__init__(id_inmueble, area, direccion, num_habitaciones, num_banos, num_pisos)\n",
    "        self.distancia_cabecera = distancia_cabecera\n",
    "        self.altitud = altitud\n",
    "\n",
    "    def calcular_valor_compra(self):\n",
    "        return self.area * 1500000"
   ]
  },
  {
   "cell_type": "code",
   "execution_count": 6,
   "metadata": {},
   "outputs": [],
   "source": [
    "class CasaUrbana(Casa):\n",
    "    def __init__(self, id_inmueble, area, direccion, num_habitaciones, num_banos, num_pisos, tipo_conjunto, valor_administracion, incluye_areas_comunes):\n",
    "        super().__init__(id_inmueble, area, direccion, num_habitaciones, num_banos, num_pisos)\n",
    "        self.tipo_conjunto = tipo_conjunto  # 'cerrado' o 'independiente'\n",
    "        self.valor_administracion = valor_administracion\n",
    "        self.incluye_areas_comunes = incluye_areas_comunes\n",
    "\n",
    "    def calcular_valor_compra(self):\n",
    "        if self.tipo_conjunto == 'cerrado':\n",
    "            return self.area * 2500000\n",
    "        else:\n",
    "            return self.area * 3000000\n",
    "\n"
   ]
  },
  {
   "cell_type": "code",
   "execution_count": 7,
   "metadata": {},
   "outputs": [],
   "source": [
    "class Apartamento(Vivienda):\n",
    "    def __init__(self, id_inmueble, area, direccion, num_habitaciones, num_banos, tipo, valor_administracion):\n",
    "        super().__init__(id_inmueble, area, direccion, num_habitaciones, num_banos)\n",
    "        self.tipo = tipo  # 'familiar' o 'apartaestudio'\n",
    "        self.valor_administracion = valor_administracion"
   ]
  },
  {
   "cell_type": "code",
   "execution_count": 8,
   "metadata": {},
   "outputs": [],
   "source": [
    "class Apartaestudio(Apartamento):\n",
    "    def __init__(self, id_inmueble, area, direccion, valor_administracion):\n",
    "        super().__init__(id_inmueble, area, direccion, 1, 1, 'apartaestudio', valor_administracion)\n",
    "\n",
    "    def calcular_valor_compra(self):\n",
    "        return self.area * 1500000"
   ]
  },
  {
   "cell_type": "code",
   "execution_count": 9,
   "metadata": {},
   "outputs": [],
   "source": [
    "# apartamento_familiar = ApartamentoFamiliar(3, 80, \"Avenida 9\", 2, 2, 150000)\n",
    "\n",
    "class ApartamentoFamiliar(Apartamento):\n",
    "    def __init__(self, id_inmueble, area, direccion, num_habitaciones, num_banos, valor_administracion):\n",
    "        super().__init__(id_inmueble, area, direccion, num_habitaciones, num_banos, 'familiar', valor_administracion)\n",
    "\n",
    "    def calcular_valor_compra(self):\n",
    "        return self.area * 2000000"
   ]
  },
  {
   "cell_type": "code",
   "execution_count": 10,
   "metadata": {},
   "outputs": [],
   "source": [
    "class Local(Inmueble):\n",
    "    def __init__(self, id_inmueble, area, direccion, localizacion):\n",
    "        super().__init__(id_inmueble, area, direccion)\n",
    "        self.localizacion = localizacion  # 'interno' o 'calle'"
   ]
  },
  {
   "cell_type": "code",
   "execution_count": 11,
   "metadata": {},
   "outputs": [],
   "source": [
    "class LocalComercial(Local):\n",
    "    def __init__(self, id_inmueble, area, direccion, localizacion, centro_comercial):\n",
    "        super().__init__(id_inmueble, area, direccion, localizacion)\n",
    "        self.centro_comercial = centro_comercial\n",
    "\n",
    "    def calcular_valor_compra(self):\n",
    "        return self.area * 3000000"
   ]
  },
  {
   "cell_type": "code",
   "execution_count": 12,
   "metadata": {},
   "outputs": [],
   "source": [
    "class Oficina(Local):\n",
    "    def __init__(self, id_inmueble, area, direccion, localizacion, es_gobierno):\n",
    "        super().__init__(id_inmueble, area, direccion, localizacion)\n",
    "        self.es_gobierno = es_gobierno  # True o False\n",
    "\n",
    "    def calcular_valor_compra(self):\n",
    "        return self.area * 3500000"
   ]
  },
  {
   "cell_type": "code",
   "execution_count": 13,
   "metadata": {},
   "outputs": [],
   "source": [
    "# Ejemplo de uso\n",
    "casa_rural = CasaRural(1, 120, \"Vereda El Sol\", 3, 2, 2, 15, 2500)\n",
    "casa_urbana = CasaUrbana(2, 200, \"Calle 20\", 4, 3, 3, 'cerrado', 200000, True)\n",
    "apartamento_familiar = ApartamentoFamiliar(3, 80, \"Avenida 9\", 2, 2, 150000)\n",
    "local_comercial = LocalComercial(4, 50, \"Centro Comercial Plaza\", \"calle\", \"Plaza Mayor\")"
   ]
  },
  {
   "cell_type": "code",
   "execution_count": 14,
   "metadata": {},
   "outputs": [
    {
     "name": "stdout",
     "output_type": "stream",
     "text": [
      "Valor de compra Casa Rural: 180000000\n",
      "Valor de compra Casa Urbana: 500000000\n",
      "Valor de compra Apartamento Familiar: 160000000\n",
      "Valor de compra Local Comercial: 150000000\n"
     ]
    }
   ],
   "source": [
    "# Calcular el valor de compra\n",
    "print(f\"Valor de compra Casa Rural: {casa_rural.calcular_valor_compra()}\")\n",
    "print(f\"Valor de compra Casa Urbana: {casa_urbana.calcular_valor_compra()}\")\n",
    "print(f\"Valor de compra Apartamento Familiar: {apartamento_familiar.calcular_valor_compra()}\")\n",
    "print(f\"Valor de compra Local Comercial: {local_comercial.calcular_valor_compra()}\")\n"
   ]
  }
 ],
 "metadata": {
  "kernelspec": {
   "display_name": "Python 3",
   "language": "python",
   "name": "python3"
  },
  "language_info": {
   "codemirror_mode": {
    "name": "ipython",
    "version": 3
   },
   "file_extension": ".py",
   "mimetype": "text/x-python",
   "name": "python",
   "nbconvert_exporter": "python",
   "pygments_lexer": "ipython3",
   "version": "3.9.13"
  }
 },
 "nbformat": 4,
 "nbformat_minor": 2
}
