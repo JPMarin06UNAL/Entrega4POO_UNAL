{
 "cells": [
  {
   "cell_type": "markdown",
   "metadata": {},
   "source": [
    "# Jerarquía de Clases de Animales\n",
    "\n",
    "Se tiene una jerarquía taxonómica con los siguientes animales:\n",
    "\n",
    "## Clase Raíz: Animal\n",
    "\n",
    "- **Atributos**:\n",
    "  - `sonidos` (String)\n",
    "  - `alimentos` (String)\n",
    "  - `hábitat` (String)\n",
    "  - `nombre científico` (String)\n",
    "  \n",
    "- **Métodos abstractos**:\n",
    "  - `public abstract String getNombreCientífico()`\n",
    "  - `public abstract String getSonido()`\n",
    "  - `public abstract String getAlimentos()`\n",
    "  - `public abstract String getHábitat()`\n",
    "\n",
    "## Subclases de `Animal`\n",
    "\n",
    "### Cánidos\n",
    "\n",
    "1. **Perros**:\n",
    "   - Sonido: Ladrido\n",
    "   - Alimentación: Carnívora\n",
    "   - Hábitat: Doméstico\n",
    "   - Nombre Científico: `Canis lupus familiaris`\n",
    "\n",
    "2. **Lobos**:\n",
    "   - Sonido: Aullido\n",
    "   - Alimentación: Carnívora\n",
    "   - Hábitat: Bosque\n",
    "   - Nombre Científico: `Canis lupus`\n",
    "\n",
    "### Felinos\n",
    "\n",
    "1. **Leones**:\n",
    "   - Sonido: Rugido\n",
    "   - Alimentación: Carnívora\n",
    "   - Hábitat: Pradera\n",
    "   - Nombre Científico: `Panthera leo`\n",
    "\n",
    "2. **Gatos**:\n",
    "   - Sonido: Maullido\n",
    "   - Alimentación: Ratones\n",
    "   - Hábitat: Doméstico\n",
    "   - Nombre Científico: `Felis silvestris catus`\n",
    "\n",
    "## Clase de Prueba\n",
    "\n",
    "Se requiere una clase de prueba que contenga el método `main`, el cual debe:\n",
    "\n",
    "- Crear un array de animales.\n",
    "- Mostrar los valores de sus atributos.\n"
   ]
  },
  {
   "cell_type": "code",
   "execution_count": 10,
   "metadata": {},
   "outputs": [],
   "source": [
    "# Clase Animal (clase base)\n",
    "class Animal:\n",
    "    def __init__(self, nombre_cientifico, sonido, alimentos, habitat):\n",
    "        self.nombre_cientifico = nombre_cientifico\n",
    "        self.sonido = sonido\n",
    "        self.alimentos = alimentos\n",
    "        self.habitat = habitat"
   ]
  },
  {
   "cell_type": "code",
   "execution_count": 11,
   "metadata": {},
   "outputs": [],
   "source": [
    "# Clase Cánido (subclase de Animal)\n",
    "class Canido(Animal):\n",
    "    def __init__(self, nombre_cientifico, sonido, alimentos, habitat):\n",
    "        super().__init__(nombre_cientifico, sonido, alimentos, habitat)"
   ]
  },
  {
   "cell_type": "code",
   "execution_count": 12,
   "metadata": {},
   "outputs": [],
   "source": [
    "# Clase Felino (subclase de Animal)\n",
    "class Felino(Animal):\n",
    "    def __init__(self, nombre_cientifico, sonido, alimentos, habitat):\n",
    "        super().__init__(nombre_cientifico, sonido, alimentos, habitat)"
   ]
  },
  {
   "cell_type": "code",
   "execution_count": 13,
   "metadata": {},
   "outputs": [],
   "source": [
    "# Clase Perro (subclase de Cánido)\n",
    "class Perro(Canido):\n",
    "    def __init__(self):\n",
    "        super().__init__(\"Canis lupus familiaris\", \"Ladrido\", \"Carnívoro\", \"Doméstico\")"
   ]
  },
  {
   "cell_type": "code",
   "execution_count": 14,
   "metadata": {},
   "outputs": [],
   "source": [
    "# Clase Lobo (subclase de Cánido)\n",
    "class Lobo(Canido):\n",
    "    def __init__(self):\n",
    "        super().__init__(\"Canis lupus\", \"Aullido\", \"Carnívoro\", \"Bosque\")"
   ]
  },
  {
   "cell_type": "code",
   "execution_count": 15,
   "metadata": {},
   "outputs": [],
   "source": [
    "# Clase León (subclase de Felino)\n",
    "class Leon(Felino):\n",
    "    def __init__(self):\n",
    "        super().__init__(\"Panthera leo\", \"Rugido\", \"Carnívoro\", \"Pradera\")"
   ]
  },
  {
   "cell_type": "code",
   "execution_count": 16,
   "metadata": {},
   "outputs": [],
   "source": [
    "# Clase Gato (subclase de Felino)\n",
    "class Gato(Felino):\n",
    "    def __init__(self):\n",
    "        super().__init__(\"Felis silvestris catus\", \"Maullido\", \"Ratones\", \"Doméstico\")"
   ]
  },
  {
   "cell_type": "code",
   "execution_count": 17,
   "metadata": {},
   "outputs": [],
   "source": [
    "# Clase de prueba para generar un array de animales\n",
    "def main():\n",
    "    # Crear una lista de animales\n",
    "    animales = [\n",
    "        Perro(),\n",
    "        Lobo(),\n",
    "        Leon(),\n",
    "        Gato()\n",
    "    ]\n",
    "    for i, animal in enumerate(animales, start=1):\n",
    "        print(f\"Animal {i}:\")\n",
    "        print(f\"  Nombre científico: {animal.nombre_cientifico}\")\n",
    "        print(f\"  Sonido: {animal.sonido}\")\n",
    "        print(f\"  Alimentos: {animal.alimentos}\")\n",
    "        print(f\"  Hábitat: {animal.habitat}\")\n",
    "        print()"
   ]
  },
  {
   "cell_type": "code",
   "execution_count": 18,
   "metadata": {},
   "outputs": [
    {
     "name": "stdout",
     "output_type": "stream",
     "text": [
      "Animal 1:\n",
      "  Nombre científico: Canis lupus familiaris\n",
      "  Sonido: Ladrido\n",
      "  Alimentos: Carnívoro\n",
      "  Hábitat: Doméstico\n",
      "\n",
      "Animal 2:\n",
      "  Nombre científico: Canis lupus\n",
      "  Sonido: Aullido\n",
      "  Alimentos: Carnívoro\n",
      "  Hábitat: Bosque\n",
      "\n",
      "Animal 3:\n",
      "  Nombre científico: Panthera leo\n",
      "  Sonido: Rugido\n",
      "  Alimentos: Carnívoro\n",
      "  Hábitat: Pradera\n",
      "\n",
      "Animal 4:\n",
      "  Nombre científico: Felis silvestris catus\n",
      "  Sonido: Maullido\n",
      "  Alimentos: Ratones\n",
      "  Hábitat: Doméstico\n",
      "\n"
     ]
    }
   ],
   "source": [
    "# Ejecutar el método main\n",
    "if __name__ == \"__main__\":\n",
    "    main()\n"
   ]
  }
 ],
 "metadata": {
  "kernelspec": {
   "display_name": "Python 3",
   "language": "python",
   "name": "python3"
  },
  "language_info": {
   "codemirror_mode": {
    "name": "ipython",
    "version": 3
   },
   "file_extension": ".py",
   "mimetype": "text/x-python",
   "name": "python",
   "nbconvert_exporter": "python",
   "pygments_lexer": "ipython3",
   "version": "3.9.13"
  }
 },
 "nbformat": 4,
 "nbformat_minor": 2
}
